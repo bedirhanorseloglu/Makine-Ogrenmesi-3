{
 "cells": [
  {
   "cell_type": "code",
   "execution_count": 6,
   "metadata": {},
   "outputs": [],
   "source": [
    "# Kütüphaneler\n",
    "\n",
    "import numpy as np\n",
    "import pandas as pd\n",
    "from sklearn.model_selection import train_test_split , GridSearchCV\n",
    "from sklearn.metrics import mean_squared_error , r2_score\n",
    "import matplotlib.pyplot as plt\n",
    "from sklearn.preprocessing import scale     # standardizasoyon işlemleri\n",
    "from sklearn.preprocessing import StandardScaler    # standardizasoyon işlemleri\n",
    "from sklearn import model_selection\n",
    "from sklearn.linear_model import LinearRegression\n",
    "from sklearn.svm import SVR\n",
    "from sklearn.tree import DecisionTreeRegressor\n",
    "from sklearn.neighbors import KNeighborsRegressor\n",
    "from sklearn import neighbors\n",
    "from sklearn.neural_network import MLPRegressor\n",
    "from sklearn.ensemble import RandomForestRegressor\n",
    "from sklearn.ensemble import GradientBoostingRegressor\n",
    "from sklearn.svm import SVR\n",
    "\n",
    "from warnings import filterwarnings\n",
    "filterwarnings(\"ignore\")     # önceki bölümlerde çalıştırdığımızda çıkan gereksiz uyarı mesajları çıkmasın diye"
   ]
  },
  {
   "cell_type": "code",
   "execution_count": 3,
   "metadata": {},
   "outputs": [],
   "source": [
    "df = pd.read_csv(\"C:\\python_py\\Makine Öğrenmesi-2\\Hitters.csv\")\n",
    "df = df.dropna()\n",
    "\n",
    "dms = pd.get_dummies(df[[\"League\" , \"Division\" , \"NewLeague\"]])\n",
    "\n",
    "y = df[\"Salary\"]\n",
    "\n",
    "x__ = df.drop([\"Salary\" , \"League\" , \"Division\" , \"NewLeague\"] , axis=1).astype(\"float64\")\n",
    "x = pd.concat([x__ , dms[[\"League_N\" , \"Division_W\" , \"NewLeague_N\"]]] , axis=1)\n",
    "\n",
    "x_train , x_test , y_train , y_test = train_test_split(x , y , test_size=0.25 , random_state=42)"
   ]
  },
  {
   "cell_type": "markdown",
   "metadata": {},
   "source": [
    "# MODEL"
   ]
  },
  {
   "cell_type": "code",
   "execution_count": 13,
   "metadata": {},
   "outputs": [],
   "source": [
    "svr_model = SVR(kernel=\"linear\").fit(x_train , y_train)     # kernel değerini değiştirebiliriz örneğin \"rbf\" yaptığımızda bu sefer hata oranımız artarak 470'e geliyor."
   ]
  },
  {
   "cell_type": "markdown",
   "metadata": {},
   "source": [
    "# TAHMİN"
   ]
  },
  {
   "cell_type": "code",
   "execution_count": 15,
   "metadata": {},
   "outputs": [
    {
     "data": {
      "text/plain": [
       "array([ 219.32622627,  702.43039317,  623.20559641,  153.77538484,\n",
       "        463.15191157, 1002.96905384,   55.20051607,  218.47517427,\n",
       "        466.00937227,  802.1635624 ])"
      ]
     },
     "execution_count": 15,
     "metadata": {},
     "output_type": "execute_result"
    }
   ],
   "source": [
    "svr_model.predict(x_train)[0:10]"
   ]
  },
  {
   "cell_type": "code",
   "execution_count": 16,
   "metadata": {},
   "outputs": [
    {
     "data": {
      "text/plain": [
       "array([679.14754919, 633.72883529, 925.68639938, 270.28464317,\n",
       "       530.26659421, 272.22606175, 549.4423224 , 446.55264396,\n",
       "       892.8309562 , 677.96856008])"
      ]
     },
     "execution_count": 16,
     "metadata": {},
     "output_type": "execute_result"
    }
   ],
   "source": [
    "svr_model.predict(x_test)[0:10]"
   ]
  },
  {
   "cell_type": "code",
   "execution_count": 17,
   "metadata": {},
   "outputs": [
    {
     "data": {
      "text/plain": [
       "array([-80.15196063])"
      ]
     },
     "execution_count": 17,
     "metadata": {},
     "output_type": "execute_result"
    }
   ],
   "source": [
    "# Doğrunun denklemini çıkartmak istersek\n",
    "\n",
    "svr_model.intercept_"
   ]
  },
  {
   "cell_type": "code",
   "execution_count": 18,
   "metadata": {},
   "outputs": [
    {
     "data": {
      "text/plain": [
       "array([[ -1.2183904 ,   6.09602978,  -3.67574533,   0.14217072,\n",
       "          0.51435925,   1.28388992,  12.55922527,  -0.08693754,\n",
       "          0.46597185,   2.98259931,   0.52944513,  -0.79820793,\n",
       "         -0.16015531,   0.30872795,   0.28842348,  -1.79560066,\n",
       "          6.41868986, -10.74313785,   1.33374319]])"
      ]
     },
     "execution_count": 18,
     "metadata": {},
     "output_type": "execute_result"
    }
   ],
   "source": [
    "svr_model.coef_"
   ]
  },
  {
   "cell_type": "code",
   "execution_count": 20,
   "metadata": {},
   "outputs": [
    {
     "data": {
      "text/plain": [
       "370.0408415795005"
      ]
     },
     "execution_count": 20,
     "metadata": {},
     "output_type": "execute_result"
    }
   ],
   "source": [
    "# Test setinin ilk hata oranı\n",
    "\n",
    "y_pred = svr_model.predict(x_test)\n",
    "\n",
    "RMSE = np.sqrt(mean_squared_error(y_pred , y_test))\n",
    "RMSE"
   ]
  },
  {
   "cell_type": "markdown",
   "metadata": {},
   "source": [
    "# MODEL TUNİNG (DOĞRULAMA)"
   ]
  },
  {
   "cell_type": "code",
   "execution_count": 34,
   "metadata": {},
   "outputs": [],
   "source": [
    "# Olası bazı C değerlerini verip bunları GridSearchCV yöntemi ile k-katlı çapraz doğrulama yaparak optimum C değerini bulmalıyız.\n",
    "\n",
    "svr_params = {\"C\":[0.1 , 0.5 , 1 , 3]}\n",
    "svr_cv_model =  GridSearchCV(svr_model , svr_params , cv=5).fit(x_train , y_train)\n",
    "\n",
    "# svr_model_tuned =  GridSearchCV(svr_model , svr_params , cv=5 , verbose = 2 , n_jobs = -1).fit(x_train , y_train)   -> verbose = 2 değerini de eklersek bize raparlayarak bildirir (kaç dakika çalıştı kaç deneme yaptı vs.)\n",
    "                                                                                                                     #  n_jobs = -1  ile işlemci max güçte çalışır."
   ]
  },
  {
   "cell_type": "code",
   "execution_count": 35,
   "metadata": {},
   "outputs": [
    {
     "name": "stdout",
     "output_type": "stream",
     "text": [
      "Fitting 5 folds for each of 4 candidates, totalling 20 fits\n",
      "[CV] END ..............................................C=0.1; total time=   0.2s\n",
      "[CV] END ..............................................C=0.1; total time=   0.3s\n",
      "[CV] END ..............................................C=0.1; total time=   0.2s\n",
      "[CV] END ..............................................C=0.1; total time=   0.2s\n",
      "[CV] END ..............................................C=0.1; total time=   0.2s\n",
      "[CV] END ..............................................C=0.5; total time=   1.6s\n",
      "[CV] END ..............................................C=0.5; total time=   1.3s\n",
      "[CV] END ..............................................C=0.5; total time=   1.6s\n",
      "[CV] END ..............................................C=0.5; total time=   1.3s\n",
      "[CV] END ..............................................C=0.5; total time=   1.5s\n",
      "[CV] END ................................................C=1; total time=   3.5s\n",
      "[CV] END ................................................C=1; total time=   2.1s\n",
      "[CV] END ................................................C=1; total time=   3.7s\n",
      "[CV] END ................................................C=1; total time=   6.6s\n",
      "[CV] END ................................................C=1; total time=   3.8s\n",
      "[CV] END ................................................C=3; total time=   9.7s\n",
      "[CV] END ................................................C=3; total time=  11.9s\n",
      "[CV] END ................................................C=3; total time=  12.7s\n",
      "[CV] END ................................................C=3; total time=   5.4s\n",
      "[CV] END ................................................C=3; total time=  14.1s\n"
     ]
    }
   ],
   "source": [
    "# verbose hiperparametresini denedim. Her bir C değerini 5 defa deniyor çünkü cv=5 verdik\n",
    "\n",
    "svr_cv_model =  GridSearchCV(svr_model , svr_params , cv=5 , verbose=2).fit(x_train , y_train)"
   ]
  },
  {
   "cell_type": "code",
   "execution_count": 36,
   "metadata": {},
   "outputs": [
    {
     "data": {
      "text/plain": [
       "{'C': 0.5}"
      ]
     },
     "execution_count": 36,
     "metadata": {},
     "output_type": "execute_result"
    }
   ],
   "source": [
    "svr_cv_model.best_params_    # Optimum C değerini bize verdi"
   ]
  },
  {
   "cell_type": "code",
   "execution_count": 37,
   "metadata": {},
   "outputs": [],
   "source": [
    "# FİNAL MODELİMİZ\n",
    "\n",
    "svr_model_tuned = SVR(kernel=\"linear\" , C=0.5).fit(x_train , y_train)"
   ]
  },
  {
   "cell_type": "code",
   "execution_count": 38,
   "metadata": {},
   "outputs": [
    {
     "data": {
      "text/plain": [
       "367.98747616655294"
      ]
     },
     "execution_count": 38,
     "metadata": {},
     "output_type": "execute_result"
    }
   ],
   "source": [
    "# FİNAL MODEL'imizin hata oranı \n",
    "\n",
    "y_pred = svr_model_tuned.predict(x_test)\n",
    "\n",
    "RMSE = np.sqrt(mean_squared_error(y_pred , y_test))\n",
    "RMSE\n",
    "\n",
    "# İlk hata oranımız 370'ti."
   ]
  },
  {
   "cell_type": "code",
   "execution_count": null,
   "metadata": {},
   "outputs": [],
   "source": []
  }
 ],
 "metadata": {
  "kernelspec": {
   "display_name": "Python 3",
   "language": "python",
   "name": "python3"
  },
  "language_info": {
   "codemirror_mode": {
    "name": "ipython",
    "version": 3
   },
   "file_extension": ".py",
   "mimetype": "text/x-python",
   "name": "python",
   "nbconvert_exporter": "python",
   "pygments_lexer": "ipython3",
   "version": "3.11.4"
  },
  "orig_nbformat": 4
 },
 "nbformat": 4,
 "nbformat_minor": 2
}
