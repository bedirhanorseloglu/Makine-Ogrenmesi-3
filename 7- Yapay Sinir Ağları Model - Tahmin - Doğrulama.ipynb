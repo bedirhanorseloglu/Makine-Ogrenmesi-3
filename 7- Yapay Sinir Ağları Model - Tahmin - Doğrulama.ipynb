{
 "cells": [
  {
   "cell_type": "code",
   "execution_count": 1,
   "metadata": {},
   "outputs": [],
   "source": [
    "# Kütüphaneler\n",
    "\n",
    "import numpy as np\n",
    "import pandas as pd\n",
    "from sklearn.model_selection import train_test_split , GridSearchCV\n",
    "from sklearn.metrics import mean_squared_error , r2_score\n",
    "import matplotlib.pyplot as plt\n",
    "from sklearn.preprocessing import scale     # standardizasoyon işlemleri\n",
    "from sklearn.preprocessing import StandardScaler    # standardizasoyon işlemleri\n",
    "from sklearn import model_selection\n",
    "from sklearn.linear_model import LinearRegression\n",
    "from sklearn.svm import SVR\n",
    "from sklearn.tree import DecisionTreeRegressor\n",
    "from sklearn.neighbors import KNeighborsRegressor\n",
    "from sklearn import neighbors\n",
    "from sklearn.neural_network import MLPRegressor\n",
    "from sklearn.ensemble import RandomForestRegressor\n",
    "from sklearn.ensemble import GradientBoostingRegressor\n",
    "from sklearn.svm import SVR\n",
    "\n",
    "from warnings import filterwarnings\n",
    "filterwarnings(\"ignore\")     # önceki bölümlerde çalıştırdığımızda çıkan gereksiz uyarı mesajları çıkmasın diye"
   ]
  },
  {
   "cell_type": "code",
   "execution_count": 2,
   "metadata": {},
   "outputs": [],
   "source": [
    "df = pd.read_csv(\"C:\\python_py\\Makine Öğrenmesi-2\\Hitters.csv\")\n",
    "df = df.dropna()\n",
    "\n",
    "dms = pd.get_dummies(df[[\"League\" , \"Division\" , \"NewLeague\"]])\n",
    "\n",
    "y = df[\"Salary\"]\n",
    "\n",
    "x__ = df.drop([\"Salary\" , \"League\" , \"Division\" , \"NewLeague\"] , axis=1).astype(\"float64\")\n",
    "x = pd.concat([x__ , dms[[\"League_N\" , \"Division_W\" , \"NewLeague_N\"]]] , axis=1)\n",
    "\n",
    "x_train , x_test , y_train , y_test = train_test_split(x , y , test_size=0.25 , random_state=42)"
   ]
  },
  {
   "cell_type": "markdown",
   "metadata": {},
   "source": [
    "- Bu bölümde diğerlerinden farklı olarak bir standartlaştırma işlemi uygulayacağız. Bunu yapmamızın amacı bazı algoritmalar heterojen bazı algoritmalar ise homojen veri setleri üzerinde daha iyi çalışır. Yapay sinir ağları da homojen veri setleri üzerinde daha iyi çalışır. Çünkü hataların optimizasyonu noktasında yapılan türevleme işlmelerinde ortaya çıkmış olan aykırı değerlerin ortaya çıkarttığı bazı problemler söz konusudur. Bundan dolayı yapay sinir ağlarını standartlaştırma işlemleri sonrasında kullanmak daha sağlıklıdır. "
   ]
  },
  {
   "cell_type": "markdown",
   "metadata": {},
   "source": [
    "# Standartlaştırma İşlemi\n"
   ]
  },
  {
   "cell_type": "code",
   "execution_count": 5,
   "metadata": {},
   "outputs": [],
   "source": [
    "scaler_x_train = StandardScaler().fit(x_train).transform(x_train)\n",
    "\n",
    "scaler_x_test = StandardScaler().fit(x_test).transform(x_test)"
   ]
  },
  {
   "cell_type": "markdown",
   "metadata": {},
   "source": [
    "# MODEL"
   ]
  },
  {
   "cell_type": "code",
   "execution_count": 7,
   "metadata": {},
   "outputs": [],
   "source": [
    "mlp_model = MLPRegressor().fit(scaler_x_train , y_train)    # ml = multi layer -> çok katmanlı"
   ]
  },
  {
   "cell_type": "markdown",
   "metadata": {},
   "source": [
    "# TAHMİN"
   ]
  },
  {
   "cell_type": "code",
   "execution_count": 11,
   "metadata": {},
   "outputs": [
    {
     "data": {
      "text/plain": [
       "array([19.88550774, 36.06307195, 69.50857331,  8.3240672 , 28.8407236 ])"
      ]
     },
     "execution_count": 11,
     "metadata": {},
     "output_type": "execute_result"
    }
   ],
   "source": [
    "y_pred = mlp_model.predict(scaler_x_test)\n",
    "y_pred[0:5]"
   ]
  },
  {
   "cell_type": "code",
   "execution_count": 13,
   "metadata": {},
   "outputs": [
    {
     "data": {
      "text/plain": [
       "658.9635182593942"
      ]
     },
     "execution_count": 13,
     "metadata": {},
     "output_type": "execute_result"
    }
   ],
   "source": [
    "# Test setinin ilk hata oranına bakalım\n",
    "\n",
    "RMSE = np.sqrt(mean_squared_error(y_pred ,y_test))\n",
    "RMSE"
   ]
  },
  {
   "cell_type": "markdown",
   "metadata": {},
   "source": [
    "# MODEL TUNİNG (DOĞRULAMA)"
   ]
  },
  {
   "cell_type": "code",
   "execution_count": 15,
   "metadata": {},
   "outputs": [],
   "source": [
    "mlp_params = {\"alpha\":[0.1 , 0.01 , 0.02 , 0.001 , 0.0001] , \"hidden_layer_sizes\":[(10,20) , (5,5) , (100,100)]}  # lambdalar yani ceza parametreleri\n",
    "                                                                                                                  # ve gizli katman sayıları (10,20) -> iki tane sayı olduğu için 2 tane gizli katman var.\n",
    "                                                                                                                  #                                     bir katmanda 10 nöron diğerinde 20 nöron var\n",
    "\n",
    "# her bir alfa değerini tek tek tüm hidden_layer_size ile deneyecek"
   ]
  },
  {
   "cell_type": "code",
   "execution_count": 29,
   "metadata": {},
   "outputs": [
    {
     "name": "stdout",
     "output_type": "stream",
     "text": [
      "Fitting 10 folds for each of 15 candidates, totalling 150 fits\n",
      "[CV] END .............alpha=0.1, hidden_layer_sizes=(10, 20); total time=   0.0s\n",
      "[CV] END .............alpha=0.1, hidden_layer_sizes=(10, 20); total time=   0.0s\n",
      "[CV] END .............alpha=0.1, hidden_layer_sizes=(10, 20); total time=   0.0s\n",
      "[CV] END .............alpha=0.1, hidden_layer_sizes=(10, 20); total time=   0.0s\n",
      "[CV] END .............alpha=0.1, hidden_layer_sizes=(10, 20); total time=   0.0s\n",
      "[CV] END .............alpha=0.1, hidden_layer_sizes=(10, 20); total time=   0.0s\n",
      "[CV] END .............alpha=0.1, hidden_layer_sizes=(10, 20); total time=   0.0s\n",
      "[CV] END .............alpha=0.1, hidden_layer_sizes=(10, 20); total time=   0.0s\n",
      "[CV] END .............alpha=0.1, hidden_layer_sizes=(10, 20); total time=   0.0s\n",
      "[CV] END .............alpha=0.1, hidden_layer_sizes=(10, 20); total time=   0.0s\n",
      "[CV] END ...............alpha=0.1, hidden_layer_sizes=(5, 5); total time=   0.0s\n",
      "[CV] END ...............alpha=0.1, hidden_layer_sizes=(5, 5); total time=   0.0s\n",
      "[CV] END ...............alpha=0.1, hidden_layer_sizes=(5, 5); total time=   0.0s\n",
      "[CV] END ...............alpha=0.1, hidden_layer_sizes=(5, 5); total time=   0.0s\n",
      "[CV] END ...............alpha=0.1, hidden_layer_sizes=(5, 5); total time=   0.0s\n",
      "[CV] END ...............alpha=0.1, hidden_layer_sizes=(5, 5); total time=   0.0s\n",
      "[CV] END ...............alpha=0.1, hidden_layer_sizes=(5, 5); total time=   0.0s\n",
      "[CV] END ...............alpha=0.1, hidden_layer_sizes=(5, 5); total time=   0.0s\n",
      "[CV] END ...............alpha=0.1, hidden_layer_sizes=(5, 5); total time=   0.0s\n",
      "[CV] END ...............alpha=0.1, hidden_layer_sizes=(5, 5); total time=   0.0s\n",
      "[CV] END ...........alpha=0.1, hidden_layer_sizes=(100, 100); total time=   0.2s\n",
      "[CV] END ...........alpha=0.1, hidden_layer_sizes=(100, 100); total time=   0.2s\n",
      "[CV] END ...........alpha=0.1, hidden_layer_sizes=(100, 100); total time=   0.1s\n",
      "[CV] END ...........alpha=0.1, hidden_layer_sizes=(100, 100); total time=   0.2s\n",
      "[CV] END ...........alpha=0.1, hidden_layer_sizes=(100, 100); total time=   0.1s\n",
      "[CV] END ...........alpha=0.1, hidden_layer_sizes=(100, 100); total time=   0.1s\n",
      "[CV] END ...........alpha=0.1, hidden_layer_sizes=(100, 100); total time=   0.1s\n",
      "[CV] END ...........alpha=0.1, hidden_layer_sizes=(100, 100); total time=   0.1s\n",
      "[CV] END ...........alpha=0.1, hidden_layer_sizes=(100, 100); total time=   0.1s\n",
      "[CV] END ...........alpha=0.1, hidden_layer_sizes=(100, 100); total time=   0.2s\n",
      "[CV] END ............alpha=0.01, hidden_layer_sizes=(10, 20); total time=   0.0s\n",
      "[CV] END ............alpha=0.01, hidden_layer_sizes=(10, 20); total time=   0.0s\n",
      "[CV] END ............alpha=0.01, hidden_layer_sizes=(10, 20); total time=   0.0s\n",
      "[CV] END ............alpha=0.01, hidden_layer_sizes=(10, 20); total time=   0.0s\n",
      "[CV] END ............alpha=0.01, hidden_layer_sizes=(10, 20); total time=   0.0s\n",
      "[CV] END ............alpha=0.01, hidden_layer_sizes=(10, 20); total time=   0.0s\n",
      "[CV] END ............alpha=0.01, hidden_layer_sizes=(10, 20); total time=   0.0s\n",
      "[CV] END ............alpha=0.01, hidden_layer_sizes=(10, 20); total time=   0.0s\n",
      "[CV] END ............alpha=0.01, hidden_layer_sizes=(10, 20); total time=   0.0s\n",
      "[CV] END ............alpha=0.01, hidden_layer_sizes=(10, 20); total time=   0.0s\n",
      "[CV] END ..............alpha=0.01, hidden_layer_sizes=(5, 5); total time=   0.0s\n",
      "[CV] END ..............alpha=0.01, hidden_layer_sizes=(5, 5); total time=   0.0s\n",
      "[CV] END ..............alpha=0.01, hidden_layer_sizes=(5, 5); total time=   0.0s\n",
      "[CV] END ..............alpha=0.01, hidden_layer_sizes=(5, 5); total time=   0.0s\n",
      "[CV] END ..............alpha=0.01, hidden_layer_sizes=(5, 5); total time=   0.0s\n",
      "[CV] END ..............alpha=0.01, hidden_layer_sizes=(5, 5); total time=   0.0s\n",
      "[CV] END ..............alpha=0.01, hidden_layer_sizes=(5, 5); total time=   0.0s\n",
      "[CV] END ..............alpha=0.01, hidden_layer_sizes=(5, 5); total time=   0.0s\n",
      "[CV] END ..............alpha=0.01, hidden_layer_sizes=(5, 5); total time=   0.0s\n",
      "[CV] END ..............alpha=0.01, hidden_layer_sizes=(5, 5); total time=   0.0s\n",
      "[CV] END ..........alpha=0.01, hidden_layer_sizes=(100, 100); total time=   0.1s\n",
      "[CV] END ..........alpha=0.01, hidden_layer_sizes=(100, 100); total time=   0.1s\n",
      "[CV] END ..........alpha=0.01, hidden_layer_sizes=(100, 100); total time=   0.1s\n",
      "[CV] END ..........alpha=0.01, hidden_layer_sizes=(100, 100); total time=   0.1s\n",
      "[CV] END ..........alpha=0.01, hidden_layer_sizes=(100, 100); total time=   0.1s\n",
      "[CV] END ..........alpha=0.01, hidden_layer_sizes=(100, 100); total time=   0.1s\n",
      "[CV] END ..........alpha=0.01, hidden_layer_sizes=(100, 100); total time=   0.1s\n",
      "[CV] END ..........alpha=0.01, hidden_layer_sizes=(100, 100); total time=   0.1s\n",
      "[CV] END ..........alpha=0.01, hidden_layer_sizes=(100, 100); total time=   0.1s\n",
      "[CV] END ..........alpha=0.01, hidden_layer_sizes=(100, 100); total time=   0.1s\n",
      "[CV] END ............alpha=0.02, hidden_layer_sizes=(10, 20); total time=   0.0s\n",
      "[CV] END ............alpha=0.02, hidden_layer_sizes=(10, 20); total time=   0.0s\n",
      "[CV] END ............alpha=0.02, hidden_layer_sizes=(10, 20); total time=   0.0s\n",
      "[CV] END ............alpha=0.02, hidden_layer_sizes=(10, 20); total time=   0.0s\n",
      "[CV] END ............alpha=0.02, hidden_layer_sizes=(10, 20); total time=   0.0s\n",
      "[CV] END ............alpha=0.02, hidden_layer_sizes=(10, 20); total time=   0.0s\n",
      "[CV] END ............alpha=0.02, hidden_layer_sizes=(10, 20); total time=   0.0s\n",
      "[CV] END ............alpha=0.02, hidden_layer_sizes=(10, 20); total time=   0.0s\n",
      "[CV] END ............alpha=0.02, hidden_layer_sizes=(10, 20); total time=   0.0s\n",
      "[CV] END ............alpha=0.02, hidden_layer_sizes=(10, 20); total time=   0.0s\n",
      "[CV] END ..............alpha=0.02, hidden_layer_sizes=(5, 5); total time=   0.0s\n",
      "[CV] END ..............alpha=0.02, hidden_layer_sizes=(5, 5); total time=   0.0s\n",
      "[CV] END ..............alpha=0.02, hidden_layer_sizes=(5, 5); total time=   0.0s\n",
      "[CV] END ..............alpha=0.02, hidden_layer_sizes=(5, 5); total time=   0.0s\n",
      "[CV] END ..............alpha=0.02, hidden_layer_sizes=(5, 5); total time=   0.0s\n",
      "[CV] END ..............alpha=0.02, hidden_layer_sizes=(5, 5); total time=   0.0s\n",
      "[CV] END ..............alpha=0.02, hidden_layer_sizes=(5, 5); total time=   0.0s\n",
      "[CV] END ..............alpha=0.02, hidden_layer_sizes=(5, 5); total time=   0.0s\n",
      "[CV] END ..............alpha=0.02, hidden_layer_sizes=(5, 5); total time=   0.0s\n",
      "[CV] END ..............alpha=0.02, hidden_layer_sizes=(5, 5); total time=   0.0s\n",
      "[CV] END ..........alpha=0.02, hidden_layer_sizes=(100, 100); total time=   0.1s\n",
      "[CV] END ..........alpha=0.02, hidden_layer_sizes=(100, 100); total time=   0.2s\n",
      "[CV] END ..........alpha=0.02, hidden_layer_sizes=(100, 100); total time=   0.2s\n",
      "[CV] END ..........alpha=0.02, hidden_layer_sizes=(100, 100); total time=   0.1s\n",
      "[CV] END ..........alpha=0.02, hidden_layer_sizes=(100, 100); total time=   0.1s\n",
      "[CV] END ..........alpha=0.02, hidden_layer_sizes=(100, 100); total time=   0.1s\n",
      "[CV] END ..........alpha=0.02, hidden_layer_sizes=(100, 100); total time=   0.1s\n",
      "[CV] END ..........alpha=0.02, hidden_layer_sizes=(100, 100); total time=   0.1s\n",
      "[CV] END ..........alpha=0.02, hidden_layer_sizes=(100, 100); total time=   0.2s\n",
      "[CV] END ..........alpha=0.02, hidden_layer_sizes=(100, 100); total time=   0.2s\n",
      "[CV] END ...........alpha=0.001, hidden_layer_sizes=(10, 20); total time=   0.0s\n",
      "[CV] END ...........alpha=0.001, hidden_layer_sizes=(10, 20); total time=   0.0s\n",
      "[CV] END ...........alpha=0.001, hidden_layer_sizes=(10, 20); total time=   0.0s\n",
      "[CV] END ...........alpha=0.001, hidden_layer_sizes=(10, 20); total time=   0.0s\n",
      "[CV] END ...........alpha=0.001, hidden_layer_sizes=(10, 20); total time=   0.0s\n",
      "[CV] END ...........alpha=0.001, hidden_layer_sizes=(10, 20); total time=   0.0s\n",
      "[CV] END ...........alpha=0.001, hidden_layer_sizes=(10, 20); total time=   0.0s\n",
      "[CV] END ...........alpha=0.001, hidden_layer_sizes=(10, 20); total time=   0.0s\n",
      "[CV] END ...........alpha=0.001, hidden_layer_sizes=(10, 20); total time=   0.0s\n",
      "[CV] END ...........alpha=0.001, hidden_layer_sizes=(10, 20); total time=   0.0s\n",
      "[CV] END .............alpha=0.001, hidden_layer_sizes=(5, 5); total time=   0.0s\n",
      "[CV] END .............alpha=0.001, hidden_layer_sizes=(5, 5); total time=   0.0s\n",
      "[CV] END .............alpha=0.001, hidden_layer_sizes=(5, 5); total time=   0.0s\n",
      "[CV] END .............alpha=0.001, hidden_layer_sizes=(5, 5); total time=   0.0s\n",
      "[CV] END .............alpha=0.001, hidden_layer_sizes=(5, 5); total time=   0.0s\n",
      "[CV] END .............alpha=0.001, hidden_layer_sizes=(5, 5); total time=   0.0s\n",
      "[CV] END .............alpha=0.001, hidden_layer_sizes=(5, 5); total time=   0.0s\n",
      "[CV] END .............alpha=0.001, hidden_layer_sizes=(5, 5); total time=   0.0s\n",
      "[CV] END .............alpha=0.001, hidden_layer_sizes=(5, 5); total time=   0.0s\n",
      "[CV] END .............alpha=0.001, hidden_layer_sizes=(5, 5); total time=   0.0s\n",
      "[CV] END .........alpha=0.001, hidden_layer_sizes=(100, 100); total time=   0.1s\n",
      "[CV] END .........alpha=0.001, hidden_layer_sizes=(100, 100); total time=   0.1s\n",
      "[CV] END .........alpha=0.001, hidden_layer_sizes=(100, 100); total time=   0.1s\n",
      "[CV] END .........alpha=0.001, hidden_layer_sizes=(100, 100); total time=   0.2s\n",
      "[CV] END .........alpha=0.001, hidden_layer_sizes=(100, 100); total time=   0.2s\n",
      "[CV] END .........alpha=0.001, hidden_layer_sizes=(100, 100); total time=   0.2s\n",
      "[CV] END .........alpha=0.001, hidden_layer_sizes=(100, 100); total time=   0.1s\n",
      "[CV] END .........alpha=0.001, hidden_layer_sizes=(100, 100); total time=   0.2s\n",
      "[CV] END .........alpha=0.001, hidden_layer_sizes=(100, 100); total time=   0.1s\n",
      "[CV] END .........alpha=0.001, hidden_layer_sizes=(100, 100); total time=   0.1s\n",
      "[CV] END ..........alpha=0.0001, hidden_layer_sizes=(10, 20); total time=   0.0s\n",
      "[CV] END ..........alpha=0.0001, hidden_layer_sizes=(10, 20); total time=   0.0s\n",
      "[CV] END ..........alpha=0.0001, hidden_layer_sizes=(10, 20); total time=   0.0s\n",
      "[CV] END ..........alpha=0.0001, hidden_layer_sizes=(10, 20); total time=   0.0s\n",
      "[CV] END ..........alpha=0.0001, hidden_layer_sizes=(10, 20); total time=   0.0s\n",
      "[CV] END ..........alpha=0.0001, hidden_layer_sizes=(10, 20); total time=   0.0s\n",
      "[CV] END ..........alpha=0.0001, hidden_layer_sizes=(10, 20); total time=   0.0s\n",
      "[CV] END ..........alpha=0.0001, hidden_layer_sizes=(10, 20); total time=   0.0s\n",
      "[CV] END ..........alpha=0.0001, hidden_layer_sizes=(10, 20); total time=   0.0s\n",
      "[CV] END ..........alpha=0.0001, hidden_layer_sizes=(10, 20); total time=   0.0s\n",
      "[CV] END ............alpha=0.0001, hidden_layer_sizes=(5, 5); total time=   0.0s\n",
      "[CV] END ............alpha=0.0001, hidden_layer_sizes=(5, 5); total time=   0.0s\n",
      "[CV] END ............alpha=0.0001, hidden_layer_sizes=(5, 5); total time=   0.0s\n",
      "[CV] END ............alpha=0.0001, hidden_layer_sizes=(5, 5); total time=   0.0s\n",
      "[CV] END ............alpha=0.0001, hidden_layer_sizes=(5, 5); total time=   0.0s\n",
      "[CV] END ............alpha=0.0001, hidden_layer_sizes=(5, 5); total time=   0.0s\n",
      "[CV] END ............alpha=0.0001, hidden_layer_sizes=(5, 5); total time=   0.0s\n",
      "[CV] END ............alpha=0.0001, hidden_layer_sizes=(5, 5); total time=   0.0s\n",
      "[CV] END ............alpha=0.0001, hidden_layer_sizes=(5, 5); total time=   0.0s\n",
      "[CV] END ............alpha=0.0001, hidden_layer_sizes=(5, 5); total time=   0.0s\n",
      "[CV] END ........alpha=0.0001, hidden_layer_sizes=(100, 100); total time=   0.2s\n",
      "[CV] END ........alpha=0.0001, hidden_layer_sizes=(100, 100); total time=   0.1s\n",
      "[CV] END ........alpha=0.0001, hidden_layer_sizes=(100, 100); total time=   0.1s\n",
      "[CV] END ........alpha=0.0001, hidden_layer_sizes=(100, 100); total time=   0.1s\n",
      "[CV] END ........alpha=0.0001, hidden_layer_sizes=(100, 100); total time=   0.1s\n",
      "[CV] END ........alpha=0.0001, hidden_layer_sizes=(100, 100); total time=   0.1s\n",
      "[CV] END ........alpha=0.0001, hidden_layer_sizes=(100, 100); total time=   0.1s\n",
      "[CV] END ........alpha=0.0001, hidden_layer_sizes=(100, 100); total time=   0.1s\n",
      "[CV] END ........alpha=0.0001, hidden_layer_sizes=(100, 100); total time=   0.1s\n",
      "[CV] END ........alpha=0.0001, hidden_layer_sizes=(100, 100); total time=   0.1s\n"
     ]
    }
   ],
   "source": [
    "mlp_cv_model = GridSearchCV(mlp_model , mlp_params , cv=10 , verbose=2).fit(scaler_x_train , y_train)"
   ]
  },
  {
   "cell_type": "code",
   "execution_count": 30,
   "metadata": {},
   "outputs": [
    {
     "data": {
      "text/plain": [
       "{'alpha': 0.001, 'hidden_layer_sizes': (100, 100)}"
      ]
     },
     "execution_count": 30,
     "metadata": {},
     "output_type": "execute_result"
    }
   ],
   "source": [
    "mlp_cv_model.best_params_       # optimum parametreler"
   ]
  },
  {
   "cell_type": "code",
   "execution_count": 31,
   "metadata": {},
   "outputs": [],
   "source": [
    "# FİNAL MODELİ\n",
    "\n",
    "mlp_tuned = MLPRegressor(alpha=0.001 , hidden_layer_sizes=(100,100)).fit(scaler_x_train , y_train)"
   ]
  },
  {
   "cell_type": "code",
   "execution_count": 32,
   "metadata": {},
   "outputs": [
    {
     "data": {
      "text/plain": [
       "352.60711812952167"
      ]
     },
     "execution_count": 32,
     "metadata": {},
     "output_type": "execute_result"
    }
   ],
   "source": [
    "y_pred = mlp_tuned.predict(scaler_x_test)\n",
    "\n",
    "RMSE = np.sqrt(mean_squared_error(y_pred , y_test))\n",
    "RMSE\n",
    "\n",
    "# İlk tahminimiz 658.9635182593942'idi. Hata oranı büyük ölçüde düştü"
   ]
  },
  {
   "cell_type": "code",
   "execution_count": null,
   "metadata": {},
   "outputs": [],
   "source": []
  }
 ],
 "metadata": {
  "kernelspec": {
   "display_name": "Python 3",
   "language": "python",
   "name": "python3"
  },
  "language_info": {
   "codemirror_mode": {
    "name": "ipython",
    "version": 3
   },
   "file_extension": ".py",
   "mimetype": "text/x-python",
   "name": "python",
   "nbconvert_exporter": "python",
   "pygments_lexer": "ipython3",
   "version": "3.11.4"
  },
  "orig_nbformat": 4
 },
 "nbformat": 4,
 "nbformat_minor": 2
}
