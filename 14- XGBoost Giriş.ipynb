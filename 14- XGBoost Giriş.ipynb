{
 "cells": [
  {
   "cell_type": "markdown",
   "metadata": {},
   "source": [
    "- XGBoost (eXtreme Gradient Boosting), GBM'nin hız ve tahmin performansını arttırmak üzere optimize edilmiş; ölçeklenebilir ve farklı platformlara entegre edilebilir halidir.\n",
    "- 2014 yılında çıkmış oldukça yeni bir algoritmadır.\n",
    "- R, python, hadoop, scala, julia platformlarında kullanılabilir.\n",
    "- Ölçeklenebilirdir.\n",
    "- Hızlıdır.\n",
    "- Tahmin başarısı yüksektir.\n",
    "- Bir çok kaggle yarışmasında başarısını kanıtlamıştır. (2018 ve sonrasında Light GMB daha başarılı olmuştur.)\n",
    "- Split etme işlemlerinde, level-wise büyüme stratejisi (karar ağaçlarının kullanımı) kullanır.\n",
    "- Breadth-first-search (BFS-Geniş Kapsamlı İlk Arama) yapar\n",
    "- Karar ağaçlarına odaklanır"
   ]
  }
 ],
 "metadata": {
  "language_info": {
   "name": "python"
  }
 },
 "nbformat": 4,
 "nbformat_minor": 2
}
