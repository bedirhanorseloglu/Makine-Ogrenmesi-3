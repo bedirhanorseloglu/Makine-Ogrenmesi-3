{
 "cells": [
  {
   "cell_type": "markdown",
   "metadata": {},
   "source": [
    "# Öğreneceğimiz Algoritmalar\n",
    "    - K-En Yakın Komşu\n",
    "    - Destek Vektör Regresyonu\n",
    "    - Yapay Sinir Ağları\n",
    "    - CART (Classification And Regression Trees)\n",
    "    - Random Forests\n",
    "    - Gradient Boosting Machines\n",
    "    - XGBoosts\n",
    "    - LightGBM\n",
    "    - CatBoost"
   ]
  }
 ],
 "metadata": {
  "language_info": {
   "name": "python"
  },
  "orig_nbformat": 4
 },
 "nbformat": 4,
 "nbformat_minor": 2
}
