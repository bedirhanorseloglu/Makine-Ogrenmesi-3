{
 "cells": [
  {
   "cell_type": "markdown",
   "metadata": {},
   "source": [
    "- 2017 yılında Microsoft tarafından geliştirilmiştir.\n",
    "- Light GBM, XGBoost'un eğitim süresi performansını arttırmaya yönelik geliştirilen bir diğer GBM türüdür.\n",
    "- Veri seti ve aranacak olan hiperparametre kombinasyonları sayısı arttığı durumda XGBoost'un eğitim süresi çok uzayabiliyordu. Bu nedenle Light GBM geliştirilmiştir.\n",
    "- __Peki neden daha performanslı çalışır__:\n",
    "    - Split etme işlemlerinde, level-wise büyüme stratejisi (karar ağaçlarının kullanımı) yerine Leaf-wise büyüme stratejisi (split'lere odaklanmak) kullanır. Yani XGBoost, yatay anlamda bir arama işlemi gerçekleştirirken Light GBM ise dikey(derinlemesine) bir arama işlemi gerçekleştiriyor\n",
    "    - Breadth-first-search (BFS-Geniş Kapsamlı İlk Arama)  yerine depth-first-serach (DFS-Derinlemesine İlk Arama) kullanır.\n",
    "    - XGBoost karar ağaçlarına odaklanırken Light GBM'de ağaçların kendilerine, split'lerine odaklanılır.\n",
    "\n"
   ]
  }
 ],
 "metadata": {
  "language_info": {
   "name": "python"
  }
 },
 "nbformat": 4,
 "nbformat_minor": 2
}
