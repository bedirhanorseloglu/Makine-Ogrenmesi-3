{
 "cells": [
  {
   "cell_type": "markdown",
   "metadata": {},
   "source": [
    "- CatBoost, kategorik değişkenler ile otomatik olarak mücadele edebilen , hızlı , başarılı bir diğer GBM türevi algoritmadır.\n",
    "- 2017 yılında Yandex  tarafından geliştirilmiştir.\n",
    "- Kategorik değişkenler çalışmamız için önemli olduğunda , sayısı fazla olduğunda bizim için iyi imkanlar sağlayan algoritmalardan birisidir.\n",
    "- Hızlı ve ölçeklenebilir GPU desteği sağlar\n",
    "- Rusya'nın ilk açık kaynak kodlu, başarılı ML çalışmasıdır."
   ]
  }
 ],
 "metadata": {
  "language_info": {
   "name": "python"
  }
 },
 "nbformat": 4,
 "nbformat_minor": 2
}
