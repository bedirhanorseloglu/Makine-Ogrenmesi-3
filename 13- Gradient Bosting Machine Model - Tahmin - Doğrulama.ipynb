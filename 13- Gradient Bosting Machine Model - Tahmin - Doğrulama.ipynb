{
 "cells": [
  {
   "cell_type": "code",
   "execution_count": 2,
   "metadata": {},
   "outputs": [],
   "source": [
    "# Kütüphaneler\n",
    "\n",
    "import numpy as np\n",
    "import pandas as pd\n",
    "from sklearn.model_selection import train_test_split , GridSearchCV\n",
    "from sklearn.metrics import mean_squared_error , r2_score\n",
    "import matplotlib.pyplot as plt\n",
    "from sklearn.preprocessing import scale     # standardizasoyon işlemleri\n",
    "from sklearn.preprocessing import StandardScaler    # standardizasoyon işlemleri\n",
    "from sklearn import model_selection\n",
    "from sklearn.linear_model import LinearRegression\n",
    "from sklearn.svm import SVR\n",
    "from sklearn.tree import DecisionTreeRegressor\n",
    "from sklearn.neighbors import KNeighborsRegressor\n",
    "from sklearn import neighbors\n",
    "from sklearn.neural_network import MLPRegressor\n",
    "from sklearn.ensemble import RandomForestRegressor\n",
    "from sklearn.ensemble import GradientBoostingRegressor\n",
    "\n",
    "\n",
    "from warnings import filterwarnings\n",
    "filterwarnings(\"ignore\")     # önceki bölümlerde çalıştırdığımızda çıkan gereksiz uyarı mesajları çıkmasın diye"
   ]
  },
  {
   "cell_type": "code",
   "execution_count": 3,
   "metadata": {},
   "outputs": [],
   "source": [
    "df = pd.read_csv(\"C:\\Makine Öğrenmesi-2\\Hitters.csv\")\n",
    "df = df.dropna()\n",
    "\n",
    "dms = pd.get_dummies(df[[\"League\" , \"Division\" , \"NewLeague\"]])\n",
    "\n",
    "y = df[\"Salary\"]\n",
    "\n",
    "x__ = df.drop([\"Salary\" , \"League\" , \"Division\" , \"NewLeague\"] , axis=1).astype(\"float64\")\n",
    "x = pd.concat([x__ , dms[[\"League_N\" , \"Division_W\" , \"NewLeague_N\"]]] , axis=1)\n",
    "\n",
    "x_train , x_test , y_train , y_test = train_test_split(x , y , test_size=0.25 , random_state=42)"
   ]
  },
  {
   "cell_type": "markdown",
   "metadata": {},
   "source": [
    "# MODEL"
   ]
  },
  {
   "cell_type": "code",
   "execution_count": 4,
   "metadata": {},
   "outputs": [],
   "source": [
    "gbm_model = GradientBoostingRegressor().fit(x_train , y_train)"
   ]
  },
  {
   "cell_type": "markdown",
   "metadata": {},
   "source": [
    "# TAHMİN"
   ]
  },
  {
   "cell_type": "code",
   "execution_count": 5,
   "metadata": {},
   "outputs": [
    {
     "data": {
      "text/plain": [
       "352.0841925902588"
      ]
     },
     "execution_count": 5,
     "metadata": {},
     "output_type": "execute_result"
    }
   ],
   "source": [
    "# İlkel test hatamız\n",
    "y_pred = gbm_model.predict(x_test)\n",
    "np.sqrt(mean_squared_error(y_test , y_pred))"
   ]
  },
  {
   "cell_type": "markdown",
   "metadata": {},
   "source": [
    "# MODEL TUNING (DOĞRULAMA)"
   ]
  },
  {
   "cell_type": "markdown",
   "metadata": {},
   "source": [
    "***ÖNEMLİ PARAMETRELER:***\n",
    "\n",
    "- criterion = 'friedman_mse'  -> bölünmelerle ilgili saflık ölçüsü\n",
    "- learning_rate = 0.1 -> ağaçların katkısıyla ilgili göz önünde bulundurulan bir değer\n",
    "- loss = 'loss' -> kayıp fonksiyonu bazen cost bazen loss olarak farklı farklı değerlendirilebilir. Buradaki 'ls' ifadesi en küçük kareleri ifade eder. Bu da gerçek değerler ile tahmini değerler arasındaki farklar yani artıklar\n",
    "- subsample = 1.0 -> oluşturulacak olan ağaçları oluştururken göz önünde bulundurulacak olan ifade. 1 yazdığımızda hepsini dahil ederek ağaç oluşturmuş oluyor.\n",
    "\n",
    "\n",
    "- ***robust parametre*** demek aykırı verilere karşı dayanıklı demektir. Bu da örneğin gerçek değer 1000 tahminimiz 9000. Bu büyük artığı duyarlıdır anlamına geliyor"
   ]
  },
  {
   "cell_type": "code",
   "execution_count": 6,
   "metadata": {},
   "outputs": [
    {
     "name": "stdout",
     "output_type": "stream",
     "text": [
      "\u001b[1;31mType:\u001b[0m        GradientBoostingRegressor\n",
      "\u001b[1;31mString form:\u001b[0m GradientBoostingRegressor()\n",
      "\u001b[1;31mLength:\u001b[0m      100\n",
      "\u001b[1;31mFile:\u001b[0m        c:\\python312\\lib\\site-packages\\sklearn\\ensemble\\_gb.py\n",
      "\u001b[1;31mDocstring:\u001b[0m  \n",
      "Gradient Boosting for regression.\n",
      "\n",
      "This estimator builds an additive model in a forward stage-wise fashion; it\n",
      "allows for the optimization of arbitrary differentiable loss functions. In\n",
      "each stage a regression tree is fit on the negative gradient of the given\n",
      "loss function.\n",
      "\n",
      ":class:`sklearn.ensemble.HistGradientBoostingRegressor` is a much faster\n",
      "variant of this algorithm for intermediate datasets (`n_samples >= 10_000`).\n",
      "\n",
      "Read more in the :ref:`User Guide <gradient_boosting>`.\n",
      "\n",
      "Parameters\n",
      "----------\n",
      "loss : {'squared_error', 'absolute_error', 'huber', 'quantile'},             default='squared_error'\n",
      "    Loss function to be optimized. 'squared_error' refers to the squared\n",
      "    error for regression. 'absolute_error' refers to the absolute error of\n",
      "    regression and is a robust loss function. 'huber' is a\n",
      "    combination of the two. 'quantile' allows quantile regression (use\n",
      "    `alpha` to specify the quantile).\n",
      "\n",
      "learning_rate : float, default=0.1\n",
      "    Learning rate shrinks the contribution of each tree by `learning_rate`.\n",
      "    There is a trade-off between learning_rate and n_estimators.\n",
      "    Values must be in the range `[0.0, inf)`.\n",
      "\n",
      "n_estimators : int, default=100\n",
      "    The number of boosting stages to perform. Gradient boosting\n",
      "    is fairly robust to over-fitting so a large number usually\n",
      "    results in better performance.\n",
      "    Values must be in the range `[1, inf)`.\n",
      "\n",
      "subsample : float, default=1.0\n",
      "    The fraction of samples to be used for fitting the individual base\n",
      "    learners. If smaller than 1.0 this results in Stochastic Gradient\n",
      "    Boosting. `subsample` interacts with the parameter `n_estimators`.\n",
      "    Choosing `subsample < 1.0` leads to a reduction of variance\n",
      "    and an increase in bias.\n",
      "    Values must be in the range `(0.0, 1.0]`.\n",
      "\n",
      "criterion : {'friedman_mse', 'squared_error'}, default='friedman_mse'\n",
      "    The function to measure the quality of a split. Supported criteria are\n",
      "    \"friedman_mse\" for the mean squared error with improvement score by\n",
      "    Friedman, \"squared_error\" for mean squared error. The default value of\n",
      "    \"friedman_mse\" is generally the best as it can provide a better\n",
      "    approximation in some cases.\n",
      "\n",
      "    .. versionadded:: 0.18\n",
      "\n",
      "min_samples_split : int or float, default=2\n",
      "    The minimum number of samples required to split an internal node:\n",
      "\n",
      "    - If int, values must be in the range `[2, inf)`.\n",
      "    - If float, values must be in the range `(0.0, 1.0]` and `min_samples_split`\n",
      "      will be `ceil(min_samples_split * n_samples)`.\n",
      "\n",
      "    .. versionchanged:: 0.18\n",
      "       Added float values for fractions.\n",
      "\n",
      "min_samples_leaf : int or float, default=1\n",
      "    The minimum number of samples required to be at a leaf node.\n",
      "    A split point at any depth will only be considered if it leaves at\n",
      "    least ``min_samples_leaf`` training samples in each of the left and\n",
      "    right branches.  This may have the effect of smoothing the model,\n",
      "    especially in regression.\n",
      "\n",
      "    - If int, values must be in the range `[1, inf)`.\n",
      "    - If float, values must be in the range `(0.0, 1.0)` and `min_samples_leaf`\n",
      "      will be `ceil(min_samples_leaf * n_samples)`.\n",
      "\n",
      "    .. versionchanged:: 0.18\n",
      "       Added float values for fractions.\n",
      "\n",
      "min_weight_fraction_leaf : float, default=0.0\n",
      "    The minimum weighted fraction of the sum total of weights (of all\n",
      "    the input samples) required to be at a leaf node. Samples have\n",
      "    equal weight when sample_weight is not provided.\n",
      "    Values must be in the range `[0.0, 0.5]`.\n",
      "\n",
      "max_depth : int or None, default=3\n",
      "    Maximum depth of the individual regression estimators. The maximum\n",
      "    depth limits the number of nodes in the tree. Tune this parameter\n",
      "    for best performance; the best value depends on the interaction\n",
      "    of the input variables. If None, then nodes are expanded until\n",
      "    all leaves are pure or until all leaves contain less than\n",
      "    min_samples_split samples.\n",
      "    If int, values must be in the range `[1, inf)`.\n",
      "\n",
      "min_impurity_decrease : float, default=0.0\n",
      "    A node will be split if this split induces a decrease of the impurity\n",
      "    greater than or equal to this value.\n",
      "    Values must be in the range `[0.0, inf)`.\n",
      "\n",
      "    The weighted impurity decrease equation is the following::\n",
      "\n",
      "        N_t / N * (impurity - N_t_R / N_t * right_impurity\n",
      "                            - N_t_L / N_t * left_impurity)\n",
      "\n",
      "    where ``N`` is the total number of samples, ``N_t`` is the number of\n",
      "    samples at the current node, ``N_t_L`` is the number of samples in the\n",
      "    left child, and ``N_t_R`` is the number of samples in the right child.\n",
      "\n",
      "    ``N``, ``N_t``, ``N_t_R`` and ``N_t_L`` all refer to the weighted sum,\n",
      "    if ``sample_weight`` is passed.\n",
      "\n",
      "    .. versionadded:: 0.19\n",
      "\n",
      "init : estimator or 'zero', default=None\n",
      "    An estimator object that is used to compute the initial predictions.\n",
      "    ``init`` has to provide :term:`fit` and :term:`predict`. If 'zero', the\n",
      "    initial raw predictions are set to zero. By default a\n",
      "    ``DummyEstimator`` is used, predicting either the average target value\n",
      "    (for loss='squared_error'), or a quantile for the other losses.\n",
      "\n",
      "random_state : int, RandomState instance or None, default=None\n",
      "    Controls the random seed given to each Tree estimator at each\n",
      "    boosting iteration.\n",
      "    In addition, it controls the random permutation of the features at\n",
      "    each split (see Notes for more details).\n",
      "    It also controls the random splitting of the training data to obtain a\n",
      "    validation set if `n_iter_no_change` is not None.\n",
      "    Pass an int for reproducible output across multiple function calls.\n",
      "    See :term:`Glossary <random_state>`.\n",
      "\n",
      "max_features : {'sqrt', 'log2'}, int or float, default=None\n",
      "    The number of features to consider when looking for the best split:\n",
      "\n",
      "    - If int, values must be in the range `[1, inf)`.\n",
      "    - If float, values must be in the range `(0.0, 1.0]` and the features\n",
      "      considered at each split will be `max(1, int(max_features * n_features_in_))`.\n",
      "    - If \"sqrt\", then `max_features=sqrt(n_features)`.\n",
      "    - If \"log2\", then `max_features=log2(n_features)`.\n",
      "    - If None, then `max_features=n_features`.\n",
      "\n",
      "    Choosing `max_features < n_features` leads to a reduction of variance\n",
      "    and an increase in bias.\n",
      "\n",
      "    Note: the search for a split does not stop until at least one\n",
      "    valid partition of the node samples is found, even if it requires to\n",
      "    effectively inspect more than ``max_features`` features.\n",
      "\n",
      "alpha : float, default=0.9\n",
      "    The alpha-quantile of the huber loss function and the quantile\n",
      "    loss function. Only if ``loss='huber'`` or ``loss='quantile'``.\n",
      "    Values must be in the range `(0.0, 1.0)`.\n",
      "\n",
      "verbose : int, default=0\n",
      "    Enable verbose output. If 1 then it prints progress and performance\n",
      "    once in a while (the more trees the lower the frequency). If greater\n",
      "    than 1 then it prints progress and performance for every tree.\n",
      "    Values must be in the range `[0, inf)`.\n",
      "\n",
      "max_leaf_nodes : int, default=None\n",
      "    Grow trees with ``max_leaf_nodes`` in best-first fashion.\n",
      "    Best nodes are defined as relative reduction in impurity.\n",
      "    Values must be in the range `[2, inf)`.\n",
      "    If None, then unlimited number of leaf nodes.\n",
      "\n",
      "warm_start : bool, default=False\n",
      "    When set to ``True``, reuse the solution of the previous call to fit\n",
      "    and add more estimators to the ensemble, otherwise, just erase the\n",
      "    previous solution. See :term:`the Glossary <warm_start>`.\n",
      "\n",
      "validation_fraction : float, default=0.1\n",
      "    The proportion of training data to set aside as validation set for\n",
      "    early stopping. Values must be in the range `(0.0, 1.0)`.\n",
      "    Only used if ``n_iter_no_change`` is set to an integer.\n",
      "\n",
      "    .. versionadded:: 0.20\n",
      "\n",
      "n_iter_no_change : int, default=None\n",
      "    ``n_iter_no_change`` is used to decide if early stopping will be used\n",
      "    to terminate training when validation score is not improving. By\n",
      "    default it is set to None to disable early stopping. If set to a\n",
      "    number, it will set aside ``validation_fraction`` size of the training\n",
      "    data as validation and terminate training when validation score is not\n",
      "    improving in all of the previous ``n_iter_no_change`` numbers of\n",
      "    iterations.\n",
      "    Values must be in the range `[1, inf)`.\n",
      "    See\n",
      "    :ref:`sphx_glr_auto_examples_ensemble_plot_gradient_boosting_early_stopping.py`.\n",
      "\n",
      "    .. versionadded:: 0.20\n",
      "\n",
      "tol : float, default=1e-4\n",
      "    Tolerance for the early stopping. When the loss is not improving\n",
      "    by at least tol for ``n_iter_no_change`` iterations (if set to a\n",
      "    number), the training stops.\n",
      "    Values must be in the range `[0.0, inf)`.\n",
      "\n",
      "    .. versionadded:: 0.20\n",
      "\n",
      "ccp_alpha : non-negative float, default=0.0\n",
      "    Complexity parameter used for Minimal Cost-Complexity Pruning. The\n",
      "    subtree with the largest cost complexity that is smaller than\n",
      "    ``ccp_alpha`` will be chosen. By default, no pruning is performed.\n",
      "    Values must be in the range `[0.0, inf)`.\n",
      "    See :ref:`minimal_cost_complexity_pruning` for details.\n",
      "\n",
      "    .. versionadded:: 0.22\n",
      "\n",
      "Attributes\n",
      "----------\n",
      "n_estimators_ : int\n",
      "    The number of estimators as selected by early stopping (if\n",
      "    ``n_iter_no_change`` is specified). Otherwise it is set to\n",
      "    ``n_estimators``.\n",
      "\n",
      "n_trees_per_iteration_ : int\n",
      "    The number of trees that are built at each iteration. For regressors, this is\n",
      "    always 1.\n",
      "\n",
      "    .. versionadded:: 1.4.0\n",
      "\n",
      "feature_importances_ : ndarray of shape (n_features,)\n",
      "    The impurity-based feature importances.\n",
      "    The higher, the more important the feature.\n",
      "    The importance of a feature is computed as the (normalized)\n",
      "    total reduction of the criterion brought by that feature.  It is also\n",
      "    known as the Gini importance.\n",
      "\n",
      "    Warning: impurity-based feature importances can be misleading for\n",
      "    high cardinality features (many unique values). See\n",
      "    :func:`sklearn.inspection.permutation_importance` as an alternative.\n",
      "\n",
      "oob_improvement_ : ndarray of shape (n_estimators,)\n",
      "    The improvement in loss on the out-of-bag samples\n",
      "    relative to the previous iteration.\n",
      "    ``oob_improvement_[0]`` is the improvement in\n",
      "    loss of the first stage over the ``init`` estimator.\n",
      "    Only available if ``subsample < 1.0``.\n",
      "\n",
      "oob_scores_ : ndarray of shape (n_estimators,)\n",
      "    The full history of the loss values on the out-of-bag\n",
      "    samples. Only available if `subsample < 1.0`.\n",
      "\n",
      "    .. versionadded:: 1.3\n",
      "\n",
      "oob_score_ : float\n",
      "    The last value of the loss on the out-of-bag samples. It is\n",
      "    the same as `oob_scores_[-1]`. Only available if `subsample < 1.0`.\n",
      "\n",
      "    .. versionadded:: 1.3\n",
      "\n",
      "train_score_ : ndarray of shape (n_estimators,)\n",
      "    The i-th score ``train_score_[i]`` is the loss of the\n",
      "    model at iteration ``i`` on the in-bag sample.\n",
      "    If ``subsample == 1`` this is the loss on the training data.\n",
      "\n",
      "init_ : estimator\n",
      "    The estimator that provides the initial predictions. Set via the ``init``\n",
      "    argument.\n",
      "\n",
      "estimators_ : ndarray of DecisionTreeRegressor of shape (n_estimators, 1)\n",
      "    The collection of fitted sub-estimators.\n",
      "\n",
      "n_features_in_ : int\n",
      "    Number of features seen during :term:`fit`.\n",
      "\n",
      "    .. versionadded:: 0.24\n",
      "\n",
      "feature_names_in_ : ndarray of shape (`n_features_in_`,)\n",
      "    Names of features seen during :term:`fit`. Defined only when `X`\n",
      "    has feature names that are all strings.\n",
      "\n",
      "    .. versionadded:: 1.0\n",
      "\n",
      "max_features_ : int\n",
      "    The inferred value of max_features.\n",
      "\n",
      "See Also\n",
      "--------\n",
      "HistGradientBoostingRegressor : Histogram-based Gradient Boosting\n",
      "    Classification Tree.\n",
      "sklearn.tree.DecisionTreeRegressor : A decision tree regressor.\n",
      "sklearn.ensemble.RandomForestRegressor : A random forest regressor.\n",
      "\n",
      "Notes\n",
      "-----\n",
      "The features are always randomly permuted at each split. Therefore,\n",
      "the best found split may vary, even with the same training data and\n",
      "``max_features=n_features``, if the improvement of the criterion is\n",
      "identical for several splits enumerated during the search of the best\n",
      "split. To obtain a deterministic behaviour during fitting,\n",
      "``random_state`` has to be fixed.\n",
      "\n",
      "References\n",
      "----------\n",
      "J. Friedman, Greedy Function Approximation: A Gradient Boosting\n",
      "Machine, The Annals of Statistics, Vol. 29, No. 5, 2001.\n",
      "\n",
      "J. Friedman, Stochastic Gradient Boosting, 1999\n",
      "\n",
      "T. Hastie, R. Tibshirani and J. Friedman.\n",
      "Elements of Statistical Learning Ed. 2, Springer, 2009.\n",
      "\n",
      "Examples\n",
      "--------\n",
      ">>> from sklearn.datasets import make_regression\n",
      ">>> from sklearn.ensemble import GradientBoostingRegressor\n",
      ">>> from sklearn.model_selection import train_test_split\n",
      ">>> X, y = make_regression(random_state=0)\n",
      ">>> X_train, X_test, y_train, y_test = train_test_split(\n",
      "...     X, y, random_state=0)\n",
      ">>> reg = GradientBoostingRegressor(random_state=0)\n",
      ">>> reg.fit(X_train, y_train)\n",
      "GradientBoostingRegressor(random_state=0)\n",
      ">>> reg.predict(X_test[1:2])\n",
      "array([-61...])\n",
      ">>> reg.score(X_test, y_test)\n",
      "0.4..."
     ]
    }
   ],
   "source": [
    "?gbm_model"
   ]
  },
  {
   "cell_type": "code",
   "execution_count": 7,
   "metadata": {},
   "outputs": [],
   "source": [
    "# Grid Search yapacağımız parametreleri verelim ve daha sonra en iyi sonucu hangi parametrelerle veriyor onu bulalım\n",
    "\n",
    "gbm_params = {\"learning_rate\": [0.001 , 0.1 , 0.01] , \"max_depth\": [3,5,8] , \"n_estimators\": [100,200,500] , \"subsample\": [1,0.5,0.8] , \"loss\": [\"ls\" , \"lad\" , \"quantile\"]}"
   ]
  },
  {
   "cell_type": "code",
   "execution_count": 8,
   "metadata": {},
   "outputs": [
    {
     "name": "stdout",
     "output_type": "stream",
     "text": [
      "Fitting 10 folds for each of 243 candidates, totalling 2430 fits\n"
     ]
    }
   ],
   "source": [
    "gbm_cv_model = GridSearchCV(gbm_model , gbm_params , cv=10 , n_jobs=-1 , verbose=2).fit(x_train , y_train)"
   ]
  },
  {
   "cell_type": "code",
   "execution_count": 32,
   "metadata": {},
   "outputs": [
    {
     "data": {
      "text/plain": [
       "{'learning_rate': 0.1,\n",
       " 'loss': 'quantile',\n",
       " 'max_depth': 8,\n",
       " 'n_estimators': 500,\n",
       " 'subsample': 0.5}"
      ]
     },
     "execution_count": 32,
     "metadata": {},
     "output_type": "execute_result"
    }
   ],
   "source": [
    "# En iyi hangi parametrelerle sonuç çıkıyormuş ona bakalım\n",
    "\n",
    "gbm_cv_model.best_params_"
   ]
  },
  {
   "cell_type": "code",
   "execution_count": 33,
   "metadata": {},
   "outputs": [],
   "source": [
    "# En iyi çıktı veren parametreleri kullanarak final modelimizi oluşturalım\n",
    "\n",
    "gbm_tuned = GradientBoostingRegressor(learning_rate=0.1 , loss=\"quantile\" , max_depth=8 , n_estimators=500 , subsample=0.5).fit(x_train , y_train)"
   ]
  },
  {
   "cell_type": "code",
   "execution_count": 34,
   "metadata": {},
   "outputs": [
    {
     "data": {
      "text/plain": [
       "347.40403764883064"
      ]
     },
     "execution_count": 34,
     "metadata": {},
     "output_type": "execute_result"
    }
   ],
   "source": [
    "# Final modelimizle tahminde bulunarak hata oranımızı da bulalım\n",
    "\n",
    "y_pred = gbm_tuned.predict(x_test)\n",
    "np.sqrt(mean_squared_error(y_test , y_pred))\n",
    "\n",
    "\n",
    "# Başlıngıçta 352 iken şu an 347'ye düştü"
   ]
  },
  {
   "cell_type": "markdown",
   "metadata": {},
   "source": [
    "# DEĞİŞKENLERİN ÖNEM DÜZEYİ"
   ]
  },
  {
   "cell_type": "code",
   "execution_count": 35,
   "metadata": {},
   "outputs": [
    {
     "data": {
      "image/png": "[encoded data removed]",
      "text/plain": [
       "<Figure size 640x480 with 1 Axes>"
      ]
     },
     "metadata": {},
     "output_type": "display_data"
    }
   ],
   "source": [
    "Importance = pd.DataFrame({\"Importance\": gbm_tuned.feature_importances_*100} , index= x_train.columns)\n",
    "Importance.sort_values(by= \"Importance\" , axis=0 , ascending=True).plot(kind=\"barh\" , color=\"r\")\n",
    "\n",
    "plt.xlabel(\"Değişken Önem Düzeyi\")\n",
    "plt.gca().legend = None"
   ]
  }
 ],
 "metadata": {
  "kernelspec": {
   "display_name": "Python 3",
   "language": "python",
   "name": "python3"
  },
  "language_info": {
   "codemirror_mode": {
    "name": "ipython",
    "version": 3
   },
   "file_extension": ".py",
   "mimetype": "text/x-python",
   "name": "python",
   "nbconvert_exporter": "python",
   "pygments_lexer": "ipython3",
   "version": "3.12.2"
  }
 },
 "nbformat": 4,
 "nbformat_minor": 2
}
